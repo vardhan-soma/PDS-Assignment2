{
  "nbformat": 4,
  "nbformat_minor": 0,
  "metadata": {
    "colab": {
      "provenance": []
    },
    "kernelspec": {
      "name": "python3",
      "display_name": "Python 3"
    },
    "language_info": {
      "name": "python"
    }
  },
  "cells": [
    {
      "cell_type": "markdown",
      "source": [
        "**b) Remove the units from some of the attributes and only keep the numerical values (for\n",
        "example remove kmpl from “Mileage”, CC from “Engine”, bhp from “Power”, and lakh from\n",
        "“New_price”).**"
      ],
      "metadata": {
        "id": "3H7Na-cs0kK5"
      }
    },
    {
      "cell_type": "code",
      "execution_count": 1,
      "metadata": {
        "colab": {
          "base_uri": "https://localhost:8080/"
        },
        "id": "Qq30p1TC-oXy",
        "outputId": "2e7e58e4-d4b2-43c2-e148-31b1d13b35cf"
      },
      "outputs": [
        {
          "output_type": "stream",
          "name": "stdout",
          "text": [
            "<class 'pandas.core.frame.DataFrame'>\n",
            "RangeIndex: 5847 entries, 0 to 5846\n",
            "Data columns (total 14 columns):\n",
            " #   Column             Non-Null Count  Dtype  \n",
            "---  ------             --------------  -----  \n",
            " 0   Unnamed: 0         5847 non-null   int64  \n",
            " 1   Name               5847 non-null   object \n",
            " 2   Location           5847 non-null   object \n",
            " 3   Year               5847 non-null   int64  \n",
            " 4   Kilometers_Driven  5847 non-null   int64  \n",
            " 5   Fuel_Type          5847 non-null   object \n",
            " 6   Transmission       5847 non-null   object \n",
            " 7   Owner_Type         5847 non-null   object \n",
            " 8   Mileage            5845 non-null   object \n",
            " 9   Engine             5811 non-null   object \n",
            " 10  Power              5811 non-null   object \n",
            " 11  Seats              5809 non-null   float64\n",
            " 12  New_Price          815 non-null    object \n",
            " 13  Price              5847 non-null   float64\n",
            "dtypes: float64(2), int64(3), object(9)\n",
            "memory usage: 639.6+ KB\n"
          ]
        }
      ],
      "source": [
        "import os\n",
        "import pandas as pd\n",
        "\n",
        "df = pd.read_csv('/content/train.csv')\n",
        "df.info()"
      ]
    },
    {
      "cell_type": "code",
      "source": [
        "# Convert columns to string type if not already\n",
        "# removing units for the below columns\n",
        "\n",
        "df['Mileage'] = df['Mileage'].astype(str).str.rstrip(' kmpl').str.rstrip('km/kg').astype(float)\n",
        "df['Engine'] = df['Engine'].astype(str).str.rstrip(' CC').astype(float)\n",
        "df['Power'] = df['Power'].astype(str).str.rstrip(' bhp').astype(float)\n",
        "df['New_Price'] = df['New_Price'].astype(str).str.rstrip(' Lakh').str.rstrip(' Cr').astype(float)\n",
        "\n",
        "df.to_csv('/content/units_removed.csv')"
      ],
      "metadata": {
        "id": "fz6iJDWdB_3y"
      },
      "execution_count": 4,
      "outputs": []
    }
  ]
}